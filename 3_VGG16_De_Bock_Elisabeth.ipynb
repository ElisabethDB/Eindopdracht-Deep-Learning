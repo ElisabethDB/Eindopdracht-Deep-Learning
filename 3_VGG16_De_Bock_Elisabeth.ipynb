{
  "nbformat": 4,
  "nbformat_minor": 0,
  "metadata": {
    "colab": {
      "provenance": [],
      "authorship_tag": "ABX9TyPcUrIWP92sI+2aoyTx6MfY",
      "include_colab_link": true
    },
    "kernelspec": {
      "name": "python3",
      "display_name": "Python 3"
    },
    "language_info": {
      "name": "python"
    },
    "accelerator": "GPU",
    "gpuClass": "standard"
  },
  "cells": [
    {
      "cell_type": "markdown",
      "metadata": {
        "id": "view-in-github",
        "colab_type": "text"
      },
      "source": [
        "<a href=\"https://colab.research.google.com/github/ElisabethDB/Eindopdracht-Deep-Learning/blob/main/3_VGG16_De_Bock_Elisabeth.ipynb\" target=\"_parent\"><img src=\"https://colab.research.google.com/assets/colab-badge.svg\" alt=\"Open In Colab\"/></a>"
      ]
    },
    {
      "cell_type": "markdown",
      "source": [
        "<img src=\"data:image/png;base64,iVBORw0KGgoAAAANSUhEUgAAAXgAAACGCAMAAADgrGFJAAAA0lBMVEX+/v4dHRv///8AAADjBhMdHRobGxnz8/MUFBFSUlHhAAAFBQAZGRf29vbR0dAREQ7Y2NghIR9lZWSmpqZZWVje3t4LCwfr6+uxsbFKSkmKionOzs7k5OTHx8dtbWy3t7eYmJeioqLBwcA2NjRra2pEREMtLSuBgYCQkI92dnWCgoE9PTs0NDJOTk3oVVn87u7lLjXypqj53N3wm533ysvujI7tgIPnREnsdXjmP0TkISnqZWnuiozzrrD0urzkFh/51tjoUlflMzn2xMXseHvpX2Oy8fnHAAAgAElEQVR4nM1dCWMiOa4u7C4goQiBQJEDAiGdO9nZ6TnfzM7xdrf//196viTLh0yR7t15TkIKY8v2Z1mS5YNKqFCZ4P5BgFj9ufkR5o2LEBClXv7+IQnHnyJqmWBTiG+P09w/7M/9tYKw7fKVEtBUiKXvbZT/OM1XwV9loeKpH1zTJOJ/MtB1AN7l/i6T+7v/HvCAVPBjgQNw6AfYB1GOivRFEM1RhwKgFMfPvrdd/yJl16vClaFf/5aB7vvOwP8jk/vb/yrHsyHzIZv+kLREyvhecK/0ves5GGa2G4Ep1MvPGeh+I2OJDjX6YF9+zeT+nZSRYERoBFzl6dOosOQwc1ItWhZFweeJ6pCUE8R65k2b4UU2loalwohK6i/okxA/ZKD7Maobbbggr5X4I8nsxgvpHJtyIIfDSSvC5lDA43YmuKVdDyDgcEbJTEFGFq5UFYZSxPlAhCCYGJWhPtY0mrivwq5hmhAl+y0F/sPfOwoL8U0m8/E3udwK+H6/ab+yFMqYFEnXIfcp4Pv9vhRpHfKcn6U+1jSmIDtcCVQ22feU671WEGQ0ie87Y5ep2e+5zCJoO5Q+kHWvP8kZBF/SGUSMglmCYgaRAZVayV6vJ4X/LEAm1o5Z6gp4RWNKAaStrLzg8RWi1fUyMM+0HfVjVjP/TzavAr6nge9Et3MQXhB00JUAfBAXJopzJtQR+GDgUImET5UXUMTuFWi5prh/+PBLZjxmWDXbaT+meUUEfEaSd++RoMF+VCNAkcFIowD4IJ9/56PizvGRCvhaAe/bRashPNxVlCRtQM6s+XD8ry5AiB9zWX/fw/FQv/DjXKyPDD8UYWpB4wIlHKcDUUMIY+qIaK5iwouapHkwBqgxEtQvicpq1+Mu6jXL8Jx+AOCFGOzObs4XEZCn59vt2VVQZSGWm+3jzZVOuVDhFCWnOFGpz088dEhhPfZy2hC42d5sVggycHy2CgskQGMHOyBhtcJYqap6WnnxHnZ7MFZKswP1kIfvN0dVgAHsm1hBVEbCfzj+p08sKAUFfK2AX82lCbdr1PFi/NjaSPm0QgmIKeVWIaaDq/fgwcXL5wG2bjsBCgNs3PrCxd2fu8Za4JcfXfTG4aMrsW1c4tkpAKT+dm8u9vbcCSyG4yvh4Uf2J/IO9D2Ie5Ml4zToYthkTRrWYWA5frqWk54JjXyE8ndS9m1kr1Uou2F9Din78mVMzJFzOXKp+yO5scwwfiUUTl3HfZTDHpR1MRbI8Seyhegn4JArKRuXeCIfoArjOSHxujQpQblSCZZR05G+qIJo1905R5cRNhm9UBH5+SmXDToMuRnyGOB7UzVQm2FT67bIc+EQNqA1tuUKDIevQ1eDedcA8OJMx9fDtjXJ5ZlhrLvWIGYQbeTAxF0YAs3EpGvvUbn2Jn1dBVvY1oKzs7BDFeYWmvHU9FC/MfUbSiOyYo738g9GKjS4CnsHYr0oy8uaD8d/y1k2vsBvcpk+HP/EZLLAa3huj+4NI/WlqcmJiq97auC/KsZX8lNLlkqsTKwa/lOpON+CrNumU6voo+fnFwWWyndqcNNP12dnT/rTkeHjB9XFCqyX2YspTF4Lx/E69v7o1o4n20kr0/UjeX9rx57ieV3ji9YkHr20hsRwWDlRU0+R1VNOT8V6FaeCbsg5XDSGn8H2hJQgtw3uf+Qz/U4MtIAhBhbg+VI9r+7a2rC8ClOD31YrtTOpx4JUY1rMJoZPlSIQp3Otz5wBfjuse8N7w3unU5V6+KKentq6Vryv47Q80wkXui/aN1PYi6YlF8Dx7YXOvpyPTLk6153pmsuBetyMXHcKO+ZGd/pxcaQrr/sDzEnPthVydneLGPL+mcVQcS/MA8ls0AmuT8dMHhhqgbWNHD98c+PxXjHxZKaSbYzcXds+Nqw3UjJ2aRJfOE55lo7jlSxWwLZj4dS1Sq0x0r2kBIEmfK014UL3hcp/6/AYGa3rgG9crIF7eCe0gAcu0IZQ2zc1E0ILnsmR49iPrR0fxqrpTaFRFcjxgzG3pf3EoPjhz1BX4PwsqxY+GNUK2rzCGgnkeKXZhBfhzVSlmCvQ2geQiWeOY40klwMYPbdOxotn1X55A3V6HKluerQot0+2muNK/Qph+mTtNMx6q8KNAV5x8w5iwbjU2TUT2ErvTPTYCjUjigxOhuB5IuNF8C963AO8CgzLKyB//oYqYievPmXtIGR4Z0tBN9naOODhkxW02vw/RUvVvXVQAqlzSP3a6I/HAxPGerQMFU+aUdO2j6fIJAvXgYGZ56gDlmOHsNAqBDpJpR3ZPtuqjycf0Yq+VJ3cXqfAC5w6BbhmeyCYIlh0/pdF8vgf3zgVAdrkz8+MmAHrnxTqLSNrTragbYyOkk6mSD9EXjQIG3ExNP8cKdJNtc6GQUuOe2EsmFpbl3J2bsWQ5mYl/sPWUyeZYWILPOkO86fHoNIYT3ZwQd6NpehFTQZMgjr+F0FU0AuGhzkoNfQ/ffsJeeb7H35hYf9w/EuguUUQcOZqgtZRGnhgTQjzoRnRL5YJcaC5bjL/laatNf4986rklQozqbW1mqApWV4ZzVHXwzkMUWAxIOM6X0mPWgFvhyLagVpVa6U7m9Sm790Q1YpAd7ICHnw1znoUIsPy2Z4gz2j5Z5ZDCPTHx//8/PPPP/9NgV5I9+H4T7BnUCVgvdAtbKGEKRHysht7ALz+t0O1gmLKmZ40TE2aK61Vh3p+IJuBFT5KCMXth/6zb43YBuDHyKeO1T9OcKpRuTHkgEeXAfKt02osd2f7wgGUWUpK0C+BrpP8u1Am8U4KJ2A1BmMqdlU9hlbAGjtli+x2At2jTQ65O7kiAfXD1fZOjvRM4U6YDHosAFkHTiRqLPBW5KwwrZN2D63R3FD9M6dPEuXqWMkD2i0IMM8LwqZjOP5DZMZUDHyg2VSNjWbbQfSp6wdtr2j+cnkvWwe8kb9XoQwjIm356JSzJb8EHR8o1wR4o1DOINZqnYW1u1BNiDeVaHSZBz6jXnNCPXjja89ZiN2B/4SdjxLHiVNrdXsZ70WNeB4509r8Hlnb2tjrGgzbpiXa8ZrvjJFtaGxvbm62CzF41OaiRfhGWqvvzuJkazMzLjEWeG2/ND1n3Ytr1clNHzpg7UT/GoxhBF5AhoDjO2BOgTcP+flrd9x/9/4ZEM7EWeNlvON4NxddGJnz0dbjSQtQqZ2Gdj5rvYoLPZWpTeqx9irYSaqweBqzRIcT03OKT2udzRqgO5Nug71IZbwHfmBmuUcWjEtj69+4GUZfWhP1RKdtXkWw9EfwA80cgZyxMkOL0rLbP78E+eMfvPEelAo61osawvHq+VrL5dH0Zr2+mepHbbOBj0zene02H53j0BidVpZ8PBkM1m+y5xTBrNWWqkb5RDu0zCzNOMfk0/p0bRw4zSQWNahcKw22GkiT7Xp99moST2EuoJC/3l2pKhgXzpWoYnPSj+kOIegTgb+iyrtfuuH+cyBvifsITBsiairhRY2oetoYMd7wxvjFllbojDSXD6X2kfVGIGrUJLZVZqRxvithUreml4ynoS+l9XFZ2E6Mya/9/G0NoOU5vjJEDQHrHG6UhNcJtta1Y6ughsGlSIEHKX9o8CJYB8bx1QX3X1HSCfcD1KF7EXhn1dQwj11OnQfYNHO0csbZrY01nbLzs97xqzEp7Wfy1liBSgJrwKz/trHzYDX1HyLVxkzGOBmviN7SKqgRY+G8RCe9JnEpwBwjTrIQdAQgYXDEIWR5Z7eJb355H/IWd06k2eqYDU0S6jS2e4tsqidpQVL8fT1GC/dJGp/7ULZXgiyEiGdIPXJLFqrip/dSW5qqZ2Vz6nhpcWsJNBM5PXHzsImuAgI/UVUYW5AvHdFmJOcD5JvdUE4c2f5OYMUnjVddoNYclLGBk/SBoL0jPAXWC1PE/R9CBIUQ1of3YnAxVwFsnrF+dyHcSF09vuhx/vK4Ij4GsXi4V5EXZ4Fw1kajMth9ajdgd9daWo1mG6QgxPppqv0K1zuw+N5MoVDPI/1u7Oqw3JqFwpfLBWmLUswzLdYaTcIBb5qBaIpgiHcPgRVsHnN7Dvbh/psgAWsSRdH3/q2PH4/zSYUINIL73KYmjKTfDMZBHLFp/XsAMHjnPhuPyceEbEojKCKHuaAkgnERo47ht30T1Bj2D59odmciBYY8AZuPSnqChAU42DjqYUZvXfuHyslTEUQFTBC2IaaOcAVy3edBTAF50n8kKnwOuOTT3w9BXpszmR7PltYxaHyMUFhC9fS0aDJ/B6n/aEDIBZW0+GmoSiEuSlOhSNbpv+vM9Md/fC9QkldRQWGU8NFBuiSViThSOkzOXLPsUtNZSKvQDUmDU25j7ACGChvvRwe0RLDwBlFM+ObXTtAf6wWn/0yws80jvelI2RaNW7JIQtCklMNyfZBJFdsctBeK1Ksq22UVSHZBZQ9WmYgjgToA+u3TfuiPj3+oRNy7cbXC/u5iaLla3puFfdk/erOzGrnN0MhkzGBA/jsLa09UReEsU89YkFGebHWgE9CqFNBViut/LPmBj49/+ZbAjoq7iiuc9oIIeSeVPoYrVtau7g+HZleLPAr5+2D77esHYjGlFjxtF6YTLlMkagJNbt78/jnrhNeRP/4JSbFc4aHGeDAlECh4RAu8AokBVIDU6l42bobaM+I+Rz0Q11ASBQeqhb8hDDGCZAAQ3cVRr7xIiUrl+ormy4MP4fsffjqOw2e/FIgwxdmD0UQ/pclRwkVmm3t3pudPI70342WXpx5IXt+7QUNjVZoVcSIfVaYOEFaBboC33gTFAlHul0Si8LLo07++/eHfv37+/PnXH7/77Xu/9p2tSJ7oe4IqZbXZXl5u3V7dr0v9KwXkgjgexwf2KRlFwF2U86uIBdmAeWkJKEQimxFfhahC5vBpBeEY+AQ5vED9LwsE0j3VifiFAp7BuVMUlSNecEPfebM26FXasyRfhtR+6h6CDCosXHxUIom4ge35SIg4DcgU4DPgHdBoWIh/h7wnQIL6xmEqQYr+/xRE8pBI+FzqYlSJOtFISW6QK1GPoIoPuDgnXgpMjmxH5FMF3BxFoSDxAgb7mkqsIF8H6tgaAkUEvVda6RO+eh70+TpRx4gYYSo6fd5QAuSRJf9SqyWN8N1MsibFEOXi34dRgovKUA+bGr76BAGvijSqCmFLRUeGelxDjAJ2RMUHHwdN+/JQ0V8vj4A/oat9ZwtgOXyMiACpTtT/yoDMz4o4XpqJqH0CGSoQQ1VFomCM+1eUCCJUIiQqTz0SGp4ULaNEPW1UFMfI+DRqf74sdYQvJUcxjfgL+IcKXCKMCZMCj0I34ntM5cUcrbMnS//HslbQBCIiWKb+Vwfkhso3K/g8iXFRqLeCl1CaI/TQQz7VXxoCifeFpA6lKIohYZeooHLuLwuh6PLWCD7tLT3oZSLriEJbrk5PTk4XqwHG+Pb50RK0OhflaQ5WC0NxOUaCflBS6gM++JEZ95UnxOd2S5o8dQNFqXjAOai5QNWqY0rFQzshA5F6Kix3248vwZ7ho4ezk1B6usZ6bUxUCAxh0NhicHXzdNGnFO9nl+YMstfryMPqZS7ZsCCypEp/9MsZn3tnMp6yn1sE73gCK0E62et3LLzSC3qF4iE1Ck5UuoPNk9lkZE9Buj02zVDH3W1PEfmEw5koleHq8lVlboeNIVabn14z0e652flAgE73HCOqHdmIEwaz/Y/W3fM+MuHRMMhS4xMcFTiNyNcuUX9kP98Ui4fKEqat8K36e6PF1+TVkCeSBvSRfrdRvNb2MyVa97Fsgv0Z+UFPRr8Qi2cpR41ve00J6j1rRzshREJKxnWo7Uutz7OhxQc2CpVSblNUFvr22WaIgYegkTF0WeCHF9T0QAkpfCwcfM0Evc2XmD5eJS1h31FUYwJWM5IXHqk9wRy7J91Yx7ibpsjJWULPHF/IB7kMEqd2TYlf7S64GHislAO+WPyAIp8U3qH4BKTBE56mL4ahvN91QV617y7qx3zoy3YTW/BXfO3P95RtDptkgzlXVIkyx5uwLhUvUCr6jvcTBnuGOFv8PZlWAEZCPEq2lxMKUp8L9jZ/JHdg+D91gt0SPMKDl64dQ44HzD4UYplFtlplj9CFwUXIrfAyPklkDtgBnZZquKD4WVgYPuM/vs+2Ig1XDZs+F4Z2XyVn2mnoTtoRlzttTm9iFb4X1o9sbllSK5U95JApQR8NcDt2PcdH6UD72eOf+4vPtbwwWJaJL0A8kI273YKcLoIKRBpX2VSHUexrfvA07KH9ABl7FNGchwBjFU3Kihi1D9zI1UfZK17U1E7GuxSxQsKG70J2oxac/ssUX0PxUWeJwUuZ3Wvyh9VptLQLmJy82sMISdnB+5p8ZPbYP1B65rBzNtiT0UHDvX0GUsIZrT17dtSW4cRzJGp8qrr2okbcN6Tfa1JPc8bdTxxAzIAtaYqvaSb4tcVXxIGxsFdtUOo56JNgt7TnQoJ7mRSI4AcK/A1Hgh4pD4Zc1mKh9R1Di4vmpAW+WDwgiLj7jj8pFY/mu8l3wgqF2PaLMZPXfqR7fhfu1puDguWJR0JqKYNPabFXaEVEbK/LpsqhphmNWoxkvCUempO2Tcu0CcAfJyLgd0H8LYLXTVYre7+OMtwC+yHL21wwyEeCK5qfHEZvR5A3889cdjMPqWDaGNmh5uISWjpSUMQBqJIdL9yU6IIzyaD47FAPi4/bRpXgIpkjHhIC6QBjXvQO1dQQ+jA70uiYiUgy5dXehsazDYhMZMBV3qYBCWVrWJ652hqcc6PWn6zOAL8qC0ifcHCwORMGf8mKDwUBvy/oQ7gC/AGsfpYL4N0qHO8l2dw+CHRNdAE+dTyQ4lngS8UHI+O26xzHhYSZ7FGyiojbjHTsRsqpfpwCXk/yic31XiDiQrYXvITQFYUqFoD32LATYF08B/xdh+J1uqf3M6cLzWjs2c0g8MzOPToEfZMaqEB2KmIu7PI2PDHoeQ9V0yOY7nGS2USsh9RcGJPHnS9+GuDOz7K6h3YWOa2+SGk4drIoSmuRR6F2c0DX0zhtN4+sZB49dgOeSAO2IZGfjjSeLT4YJaIafpmAdzR31LQpOOfMeWYTWMczKiED5TM3B9XHV4hTvALWr3gPFd4f0h14OwfNSETipwvnrx2KN43zWjBv9DWTdjRqJ3t6RxsZZArHlj2RRzfrxXK5Ojl/krxOlxsE85TUz08Ge3BXjgh/7XBjGhOIhy7KtZCKPS/G+/HD4stacCLldPZwefkwu5dlxyUdRrxzTs6WxPLZTNk6viHHF4xif3CoIiZNRi7DrOcMu1Psmbni6NFXbbDFx5gbXcOqBVe8U0nXBTgncr7BNe7x+loWNKZViC4smLLVrDQMnF6vyf1lW+/hDT079gw/NSetnIsXMJwHpLZXDroZu3OBYRr05gDHg1TYJhNcN/LkjggOL2yw+GS5x9/VRBi+Tqn35Wzl9JXjvsFlwbluWL5sC0zmoAuBo8JmUWrnOP9ehi0n5K4DPwW0Soz6eaEZCoduoqYwG2qvY463GTh1HBTPu0+VEoQLfCo/jFe3LNPb2/+KExjj4ABF4PxLT3mCulWgrjmrvJZ+8kr+nTgRn842Nu8AnrfKs9+EUvEOMlp8weyb3A/CIeQk2Iyfy21giHJOIplxq1T5lcamj/4+b56hw6C2o11fZAkWpRd0jyPOkRp48joAb6mzzj59fxjwJTql+dUTvA+0Klm8zXQMYFcoFw3hGUd4OIcJDVN4DTcB+tmOYOfXclDBSGPn7XoGTrWqfeSUsXbhv4fj2flQ+5zjeE4ZB8Wzo7gfWLwiaBlvZQwABKbX5YCC5EBjzCp5UsHSgjNOa7pOYP41Q0hBrJWFTHZFOIpX7wKet8uVCR2jXrF2BSmebzQ5W0/YHswH1rI1q1EllYnLVahd9eskv9/qvMLhC7q6rusQTnPBOgwzV7geQTXpIgj2goz3AM/bh+lODdZa6Dd0dsBJmuY1qKLnK9M6fT9qLkxmwPFniVS2ZBuPD6CleOQkG5aVL5XTRMqSIgPIJuZ0YbCRqJuMr1zf69vxspPXLWFPl/gFiw8zkOs1FcXQ9+apUxOVSAbHgFcyQ7jn1sNMeo5HJrcDClIgxJKAwoO3vcydfUTBGgdZML0lKEV+3M4cz+9sam4TWcPLEFo8x0n9NhpswCWO/9M9K564kR+soBuabw8gc4MM9QpEEY42aqJFsmaFUsZ1oxvEdVzFcBDvBT4Y8VcyHLk9UDiJoyySIbCgWId9pOcGMSnz0EZLSoiSY8M5M5r1rMe2n7U5+1Jer3EECZz4EOp+huV7o256kcq0D+goc71nb7KMUTIpbw4CPkgp+rE94X0QEVEWGlq8kQg55kVJQ8qGHtBoXDJDz6+DzjknWc/cdfjkPBEILKGOJmwF/F+5qzAzQX87RBDGjBisU+bsAjwUH1hpnvjwCNjE1Z6zfLF4kaHnQ/baGhK4pa3hHMQGOz+wTVPY317ulsCppI1Rb8Ocg5u318aEhbFT8FDBtd/EqsoAT301NDlvI4aOssAdTjvf9hAm49a12vOzYrjmDFtYYSmsVWLakZRTx/kUdvLgFaczFhK3k50uUxH/1GZtycwu107AQ9pbZu4SeiEq1uUYeSs4cr28ZY2BlSMSUBAPXZb+Gs35j3hxd2TkOB624Gfm7cYI8/tkbBfl16tyey07LYRAWm6Mm+/Z8Ml4uzfU1pDsoG0vpWC+5cg6Mruu/WnOv96MUdmCLHAyBqrKzttxedYk4zZ2hwDtBT5m+ULxgQhhiw8cmYUjD+8NxlgV1KzrEvSXX8w3VcD3gZ+9stZKdmeh/cYX8KhxHir8XpiOwCeJjzhrhRJmlynD4jtvwegewO+r/z4eRF1hf22+YxNseJjXAvBEbQVGtfuKJJeU2H20ixIPbsn1QXYZeJOFW0R2lrezwRKzk1D0cwPexb83cLJJAnYahLcDd3i07qswCcf7mZQannGhduLhlgFsD3nrI0yc8yPul/FE2oF0CHYXm8T4/RSEYrzzjXgrYnuqpisHCfWIDh9lHOSoJC+4+SZHqpGvJ0S1Ol53WtbM23Nq02WpeOcc8WYJ7MuDRE3BXvGkOxRvE/Kbid8b7LcboXXCL5pwwRwyER5JnJTyimv0iDYQ8VAFwX8TCl0KOQz4NTMzI1t1OCtRFR/SssB33QjfJQQ+Z8MCB+/ZkbcDaLfvAfNu0s9qV/PtYDYsmRMcxokZzDD3AU8MJagLcyZPo+pScjrTOjGJjOd37783+L2Bzpd5en/wlrKJ/loBb9R49Xo5SpfkTaHupnXtjc6zDF3VSTme7jXQL1mO5w5E1WSXUjDXIBZA7K2w39lyICzlIBdEPFvQzgrblvKhcVS8k8xXlwbn/q3tXuUKbb5kAcoeR2aBj0PWnOSTg/tLcCanP44MxN5v1XDB9a33AWhEzqal3XqZ0Lgvl0Jl4er72nhGorheOCEf+inIhu7z0M3rDJV9wHvZbQcUs+QJx8lYN4nf+wz0+GPfxVAYJJL4xtGCEOLkobhTMqE+nIKook40PW8nu/hwmxIu5bpDDORDV6tBRnQc5DIw6VmbxZJnTf1kxxk/c232+Gr4gB6WoCAV1g+T+KR+IYw+ChgvQuxXXnatVzC+u8ksD+RBVo0pntEg7nvRGZdjpnjRMIr65TS/DLo/4OqG712c+J9u36QcdQPfmEeBjNfv8UaMUMnCWm/gICOSZkcMis7AZyzKt3zdLbKZGZ4vPqbEbO6w3yL6nwjj9aO+BWY/+PYbqYlVZ+p7LvNyzko4Zp9/6C4gVteBHM8vMtgvpO9UvKPELeLGPlTwmIP7kPAPmdNDSuFzEJ+Hd/JeGc7fY+q4GUGoXXF5qSbbyfRqyE6YFXE8UOySmVe7kchrSnyIjiWGm1axxrgWQ7SnVe2g4GszpMyCfA2Wli/fbLqCHyB1I+FzkqM2U1xaYOIp94F8UIWLzj5KBK821fryvsD4tdsRCkyPWDFi1Bzz5gRneO6IsMwejs/ImkLxlWCsh1zx7Cw8WRhGVuHis29y+Twfr25eCje09CXRDph5Hc15akyccTbaD5smLzi676vxzzsZU8cMmlpODNJjTygoWMsz+F7i90nzTmH1KPktsKfA7dSiZObB2lEWW3sOBvClRIq6K8fDJNo+FIqP1q9BcGlvhWc+x0SC3tEQehmXgVEB4n1fR1CR74Vk+gIPQsPFLZadWype1uhnXGmogwrrb9+1bUkXSrjzqIfa8ToLs7FK++mY6VXWW8FfyBIcGPe47uPgDqODrG7YCM5F2j5j2fvBUgOamYYPX0TQ7x1cVZmlP8jCVHZP8RlC7N1TwWQPvLOW8Wf89Mksg4jVfJYPWxGRcs6cfJVnFXaVq4auidsEHXsh5eosL3/NliP8DZrUfUOT50BmD3ZYPP3gjAiYCsRWXmiZWutJAfHOElY+hbt7/PY0hwJcJbKUk2xo0X8bjoy8sGnuEhNQZ9xmXdm1PGO2cMF8PsN1jDZm7XidJ3Ub1GzxdQ+OciVdmFjy3v4Mt5x5Jza/O94ZdVXhyB+40PzkSD8w07h7dJLRCkdDGnq9eSGOSfIwnMe9VwDehRLwjERpXvKosF/hV7rRJnfPXeE8iF8F4TdKP+aGMLfdcFrhpIPmIcQp3zdplKnThsPwXcCzbeu234kSYu+ecoaQB8gwaWExz14kIgoq27G8+0P50cuKmv49mQyTbjqPTPnykkLhzrh3WDXVgbcf9fniS9tf5NuKLlUq2Fela8tAjRUuRxi+xn6vgqVw4ZUilXpk7lEHygbcCDREx546A8/31kGu9ELxQkx4P/lQPi2IElwEV0jGfEYOGJOjhFGq9iXYDmtyZO9sqXuTa2/IBjU2J5LQGV9eQTMbicgIc6qqMIGqva8mbwiW9kEnxV8V+r2446uV0+fzq21IgyIAAASYSURBVMVqcXX+fL//SL1VrqW7YSejHYJp/o0vuC3f25wVWBVOJKXBfG+8t6HASAA3dflgAnq4Qz4pXI+RLR4nrL4i7pE3U3TQ+0pNaMvuxH6L606lS+jUwHhbE5Y/G7E3Xeyo0U/HaDie7JWFYNnXEGXelS4OK8t4XkTo4dxtY0ZdLJ6fRB22DK71t5+XMvtbTBhKOdtu1uv1ZjuX/B4Efc6VOB38M87bY1FDPWf2uXB91TuVK7XA98JfLF5R+tgWUCaeZb68Xj15owvEjHqFnH04YDkM10ZpGrOETD01vr7Z8VSn7+p4I9HXAZ6/aToK6dG0iNL4y25TMnU1+7NBDqq/owNUUDaYnQHCG/LEFtIHonIh6UR3v37a4r3AlwZKyRwJm3AjggJjbXVAH/JlbAQRyEJ88UZks2AmQFlHTU9OEDGDPnt5lZ/Jdj8DFcLF3zQdBrdJpRDYjQtdA9nwCOHwa1ZDinCNfw46Om8PV/tclA32siG+1e/j+NI+sEDhhMee8qSYvew18xyHFr5ymkwzC3PcDjaBvVzfufUo+1mxw+nuUNhYaRUMdGLL7z/nyk462RNMQSh4KwjyR19wW2F7m6mjmhh9gZiHb5MA37GHzvw/405vB1Hp1VVhDd/J8dkDUZmZ3J4b7gGmi3eLhvZ17OUxCePpu5HXbiIBzoKMXTPosukTjj2xjPtu4DspsEn+/qYU+fk7kR+9RMt58CQG70VezkB0cStBc3v4ssYpFG7mgE0Tde7YUxb4ZPDsA54ciEp2T3nO31e8R/4JlhjCiQk3qIH+PF3xA94f7/kqgKAIQvKIzNBTZ42uLDtv96TyF1dlgE8Cs027S/Ehka7Inx1+iqDR1+rRykWz++t3TBE0v4MWFRkJX9l5e2K1RyF7fdIXAE9zdjguubd4Sm9xf6C4GU2uRMSdkUvpnD+MzLRafwMDsLmAZeqE5Xk3HLoLcl+39HWA5w9E+UBPXe1HXjwegtNQPnl3OZlfwpzH/C3nB42jkTlF5UgJAntY/f1zPmeQEt0sPEWrtPfuqyG76bxf2UTtvY7Zng+qkH1wfZ/ueyHUxXLWFfqh+RqoDmF93xn6ie5KMmQKLOK+/cStfoSrIfrXr5+xNE7D7b2wE7ILx0dfvtJL6Ggn+UFBiNO5bMn2CWaKNpEv68iCrJx4CKP0m829ZC7TCkIr5wvM7dcsUL0Grg7+K5ps8BuJso4STXb/iZAgj6cjOhS/JNxNpGZFHH8RdSEWD4VrInQYSjnHmx/4QJh3Pd+3N1vRDJa7MH8VVBpfFnJYCu3dXo5TwOfzTuT78wbFH8j0Gv3NjDtCoBdGXm6W4tCwvLkLF1PqkObbeXJHTgh1XMn5USlcbMReebG4YzK/0cES1QD0xd7iE0yDkUf8FwF1oTdSmy+SbSdDvf2532+Grf7u1d71+TJm6Cp8S7g1SDnYPNwiSU2zGU7M+tb9A1wdHbiWw9ql7FEOZdTLFPbn/QrFFwhXi93Z5fX87vV+en/7NnvYnp/474+mEp4ij3pakM7AihqST/OLW0Xy9W5+/XyzOQ0uI6/8w/8BifX3Tymp3eIAAAAASUVORK5CYII=\" width=\"282\" height=\"89\" align=\"right\" /><br>\n",
        "\n",
        "**Deep Learning**<br>\n",
        "Academiejaar 2022-2023<br>\n",
        "De Bock Elisabeth\n",
        "\n",
        "---\n",
        "\n",
        "---\n"
      ],
      "metadata": {
        "id": "4aqhoe6byARd"
      }
    },
    {
      "cell_type": "code",
      "source": [
        "#import libraries\n",
        "import os, shutil, pathlib\n",
        "import random\n",
        "import math\n",
        "import numpy as np\n",
        "from PIL import Image\n",
        "import cv2\n",
        "import matplotlib.pyplot as plt\n",
        "\n",
        "from tensorflow import keras \n",
        "from tensorflow.keras import layers\n",
        "from tensorflow.keras.utils import image_dataset_from_directory"
      ],
      "metadata": {
        "id": "x1Ipfo15ylZl"
      },
      "execution_count": null,
      "outputs": []
    },
    {
      "cell_type": "code",
      "source": [
        "from google.colab import drive\n",
        "drive.mount('/content/drive')"
      ],
      "metadata": {
        "colab": {
          "base_uri": "https://localhost:8080/"
        },
        "id": "rHcQkABiync2",
        "outputId": "91c51817-362e-4081-cb2e-e4966db4914b"
      },
      "execution_count": null,
      "outputs": [
        {
          "output_type": "stream",
          "name": "stdout",
          "text": [
            "Mounted at /content/drive\n"
          ]
        }
      ]
    },
    {
      "cell_type": "code",
      "source": [
        "# Set the root directory where the images are stored\n",
        "rootdir= './drive/MyDrive/schilderijen' "
      ],
      "metadata": {
        "id": "zKwbq65Iyv31"
      },
      "execution_count": null,
      "outputs": []
    },
    {
      "cell_type": "code",
      "source": [
        "# Set the categories (i.e. classes) of images\n",
        "categories = ['Rubens', 'Picasso', 'Mondriaan']"
      ],
      "metadata": {
        "id": "nO6EhnQOyykR"
      },
      "execution_count": null,
      "outputs": []
    },
    {
      "cell_type": "code",
      "source": [
        "def plot_accuracy_los(accuracy, val_accuracy, loss,val_loss):\n",
        "    epochs = range(1, len(accuracy) + 1)\n",
        "    fig, (ax1, ax2) = plt.subplots(1, 2)\n",
        "    ax1.plot(epochs, accuracy, \"b\", label=\"Training accuracy\")\n",
        "    ax1.plot(epochs, val_accuracy, \"r\", label=\"Validation accuracy\")\n",
        "    ax1.set_title(\"Accuracy\")\n",
        "    ax1.legend();\n",
        "\n",
        "    ax2.plot(epochs, loss, \"b\", label=\"Training loss\")\n",
        "    ax2.plot(epochs, val_loss, \"r\", label=\"Validation loss\")\n",
        "    ax2.set_title(\"Loss\")\n",
        "    ax2.legend();"
      ],
      "metadata": {
        "id": "JlrJbEoxy08J"
      },
      "execution_count": null,
      "outputs": []
    },
    {
      "cell_type": "code",
      "source": [
        "train_dataset = image_dataset_from_directory(\n",
        "    os.path.join(rootdir, \"train\"),\n",
        "    image_size=(180, 180),\n",
        "    batch_size=32)\n",
        "validation_dataset = image_dataset_from_directory(\n",
        "    os.path.join(rootdir, \"validation\"),\n",
        "    image_size=(180, 180),\n",
        "    batch_size=32)\n",
        "test_dataset = image_dataset_from_directory(\n",
        "    os.path.join(rootdir, \"test\"),\n",
        "    image_size=(180, 180),\n",
        "    batch_size=32)"
      ],
      "metadata": {
        "colab": {
          "base_uri": "https://localhost:8080/"
        },
        "id": "kMnueuz-y3ao",
        "outputId": "c7887331-c7fe-4929-f029-7033667207d7"
      },
      "execution_count": null,
      "outputs": [
        {
          "output_type": "stream",
          "name": "stdout",
          "text": [
            "Found 387 files belonging to 3 classes.\n",
            "Found 300 files belonging to 3 classes.\n",
            "Found 300 files belonging to 3 classes.\n"
          ]
        }
      ]
    },
    {
      "cell_type": "markdown",
      "source": [
        "#Feature extraction met VGG16\n",
        "\n",
        "Listing 8.19 (p227) en 8.20 en 8.21 (p229)"
      ],
      "metadata": {
        "id": "Zt8LUIdUyU39"
      }
    },
    {
      "cell_type": "code",
      "execution_count": null,
      "metadata": {
        "id": "vth33nPCx59H",
        "colab": {
          "base_uri": "https://localhost:8080/"
        },
        "outputId": "c5e51698-9fd2-4fc0-f929-c1edf92d1280"
      },
      "outputs": [
        {
          "output_type": "stream",
          "name": "stdout",
          "text": [
            "Downloading data from https://storage.googleapis.com/tensorflow/keras-applications/vgg16/vgg16_weights_tf_dim_ordering_tf_kernels_notop.h5\n",
            "58889256/58889256 [==============================] - 3s 0us/step\n"
          ]
        }
      ],
      "source": [
        "conv_base = keras.applications.vgg16.VGG16(\n",
        "    weights=\"imagenet\",\n",
        "    include_top=False,\n",
        "    input_shape=(180, 180, 3)\n",
        ")"
      ]
    },
    {
      "cell_type": "code",
      "source": [
        "conv_base.summary()"
      ],
      "metadata": {
        "id": "sm-fRWPp2c5v",
        "colab": {
          "base_uri": "https://localhost:8080/"
        },
        "outputId": "8524ef23-6d79-4a97-a4b9-a71af2d2cbc6"
      },
      "execution_count": null,
      "outputs": [
        {
          "output_type": "stream",
          "name": "stdout",
          "text": [
            "Model: \"vgg16\"\n",
            "_________________________________________________________________\n",
            " Layer (type)                Output Shape              Param #   \n",
            "=================================================================\n",
            " input_1 (InputLayer)        [(None, 180, 180, 3)]     0         \n",
            "                                                                 \n",
            " block1_conv1 (Conv2D)       (None, 180, 180, 64)      1792      \n",
            "                                                                 \n",
            " block1_conv2 (Conv2D)       (None, 180, 180, 64)      36928     \n",
            "                                                                 \n",
            " block1_pool (MaxPooling2D)  (None, 90, 90, 64)        0         \n",
            "                                                                 \n",
            " block2_conv1 (Conv2D)       (None, 90, 90, 128)       73856     \n",
            "                                                                 \n",
            " block2_conv2 (Conv2D)       (None, 90, 90, 128)       147584    \n",
            "                                                                 \n",
            " block2_pool (MaxPooling2D)  (None, 45, 45, 128)       0         \n",
            "                                                                 \n",
            " block3_conv1 (Conv2D)       (None, 45, 45, 256)       295168    \n",
            "                                                                 \n",
            " block3_conv2 (Conv2D)       (None, 45, 45, 256)       590080    \n",
            "                                                                 \n",
            " block3_conv3 (Conv2D)       (None, 45, 45, 256)       590080    \n",
            "                                                                 \n",
            " block3_pool (MaxPooling2D)  (None, 22, 22, 256)       0         \n",
            "                                                                 \n",
            " block4_conv1 (Conv2D)       (None, 22, 22, 512)       1180160   \n",
            "                                                                 \n",
            " block4_conv2 (Conv2D)       (None, 22, 22, 512)       2359808   \n",
            "                                                                 \n",
            " block4_conv3 (Conv2D)       (None, 22, 22, 512)       2359808   \n",
            "                                                                 \n",
            " block4_pool (MaxPooling2D)  (None, 11, 11, 512)       0         \n",
            "                                                                 \n",
            " block5_conv1 (Conv2D)       (None, 11, 11, 512)       2359808   \n",
            "                                                                 \n",
            " block5_conv2 (Conv2D)       (None, 11, 11, 512)       2359808   \n",
            "                                                                 \n",
            " block5_conv3 (Conv2D)       (None, 11, 11, 512)       2359808   \n",
            "                                                                 \n",
            " block5_pool (MaxPooling2D)  (None, 5, 5, 512)         0         \n",
            "                                                                 \n",
            "=================================================================\n",
            "Total params: 14,714,688\n",
            "Trainable params: 14,714,688\n",
            "Non-trainable params: 0\n",
            "_________________________________________________________________\n"
          ]
        }
      ]
    },
    {
      "cell_type": "code",
      "source": [
        "def get_features_and_labels(dataset):\n",
        "    all_features = []\n",
        "    all_labels = []\n",
        "    for images, labels in dataset:\n",
        "        preprocessed_images = keras.applications.vgg16.preprocess_input(images)\n",
        "        features = conv_base.predict(preprocessed_images)\n",
        "        all_features.append(features)\n",
        "        all_labels.append(labels)\n",
        "    return np.concatenate(all_features), np.concatenate(all_labels)\n",
        "    \n",
        "train_features, train_labels = get_features_and_labels(train_dataset)\n",
        "val_features, val_labels = get_features_and_labels(validation_dataset)\n",
        "test_features, test_labels = get_features_and_labels(test_dataset)"
      ],
      "metadata": {
        "id": "PxybQtjv2gSA",
        "colab": {
          "base_uri": "https://localhost:8080/"
        },
        "outputId": "83c148f1-43d1-4144-d3bb-21ef84654c49"
      },
      "execution_count": null,
      "outputs": [
        {
          "output_type": "stream",
          "name": "stdout",
          "text": [
            "1/1 [==============================] - 10s 10s/step\n",
            "1/1 [==============================] - 0s 24ms/step\n",
            "1/1 [==============================] - 0s 24ms/step\n",
            "1/1 [==============================] - 0s 23ms/step\n",
            "1/1 [==============================] - 0s 27ms/step\n",
            "1/1 [==============================] - 0s 24ms/step\n",
            "1/1 [==============================] - 0s 23ms/step\n",
            "1/1 [==============================] - 0s 25ms/step\n",
            "1/1 [==============================] - 0s 25ms/step\n",
            "1/1 [==============================] - 0s 24ms/step\n",
            "1/1 [==============================] - 0s 23ms/step\n",
            "1/1 [==============================] - 0s 21ms/step\n",
            "1/1 [==============================] - 1s 817ms/step\n",
            "1/1 [==============================] - 0s 26ms/step\n",
            "1/1 [==============================] - 0s 24ms/step\n",
            "1/1 [==============================] - 0s 21ms/step\n",
            "1/1 [==============================] - 0s 25ms/step\n",
            "1/1 [==============================] - 0s 24ms/step\n",
            "1/1 [==============================] - 0s 25ms/step\n",
            "1/1 [==============================] - 0s 22ms/step\n",
            "1/1 [==============================] - 0s 21ms/step\n",
            "1/1 [==============================] - 0s 21ms/step\n",
            "1/1 [==============================] - 1s 1s/step\n",
            "1/1 [==============================] - 0s 22ms/step\n",
            "1/1 [==============================] - 0s 28ms/step\n",
            "1/1 [==============================] - 0s 31ms/step\n",
            "1/1 [==============================] - 0s 34ms/step\n",
            "1/1 [==============================] - 0s 33ms/step\n",
            "1/1 [==============================] - 0s 37ms/step\n",
            "1/1 [==============================] - 0s 44ms/step\n",
            "1/1 [==============================] - 0s 28ms/step\n",
            "1/1 [==============================] - 0s 29ms/step\n",
            "1/1 [==============================] - 0s 25ms/step\n"
          ]
        }
      ]
    },
    {
      "cell_type": "code",
      "source": [
        "print('Training:')\n",
        "print(\"\\tfeatures:\", train_features.shape)\n",
        "print(\"\\tlabels:\", train_labels.shape)\n",
        "print('Validation:')\n",
        "print(\"\\tfeatures:\", val_features.shape)\n",
        "print(\"\\tlabels:\", val_labels.shape)\n",
        "print('Test:')\n",
        "print(\"\\tfeatures:\", test_features.shape)\n",
        "print(\"\\tlabels:\", test_labels.shape)"
      ],
      "metadata": {
        "id": "pqKPTzr32iQr",
        "colab": {
          "base_uri": "https://localhost:8080/"
        },
        "outputId": "7c6ee139-6df1-44fa-8a7c-71734dde81fa"
      },
      "execution_count": null,
      "outputs": [
        {
          "output_type": "stream",
          "name": "stdout",
          "text": [
            "Training:\n",
            "\tfeatures: (387, 5, 5, 512)\n",
            "\tlabels: (387,)\n",
            "Validation:\n",
            "\tfeatures: (300, 5, 5, 512)\n",
            "\tlabels: (300,)\n",
            "Test:\n",
            "\tfeatures: (300, 5, 5, 512)\n",
            "\tlabels: (300,)\n"
          ]
        }
      ]
    },
    {
      "cell_type": "code",
      "source": [
        "inputs = keras.Input(shape=(5, 5, 512))  # krijgt output van convbase als input!\n",
        "x = layers.Flatten()(inputs) \n",
        "x = layers.Dense(256)(x)\n",
        "x = layers.Dropout(0.5)(x)\n",
        "outputs = layers.Dense(3, activation=\"softmax\")(x)\n",
        "model = keras.Model(inputs, outputs)"
      ],
      "metadata": {
        "id": "_NNZA7vl2kM9"
      },
      "execution_count": null,
      "outputs": []
    },
    {
      "cell_type": "code",
      "source": [
        "model.compile(\n",
        "    loss=\"sparse_categorical_crossentropy\",\n",
        "    optimizer=\"rmsprop\",\n",
        "    metrics=[\"accuracy\"]\n",
        "  )"
      ],
      "metadata": {
        "id": "qPaqmHBJ2mnp"
      },
      "execution_count": null,
      "outputs": []
    },
    {
      "cell_type": "code",
      "source": [
        "callbacks = [\n",
        "    keras.callbacks.ModelCheckpoint(\n",
        "    filepath=\"/content/drive/MyDrive/schilderijen_app/modellen/VGG16.keras\",  # file waarin model wordt opgeslagen\n",
        "    save_best_only=True,  # beste model wordt opgeslagen obv validation loss!\n",
        "    monitor=\"val_loss\")\n",
        "]"
      ],
      "metadata": {
        "id": "abUEr-9W2oq9"
      },
      "execution_count": null,
      "outputs": []
    },
    {
      "cell_type": "code",
      "source": [
        "history = model.fit(\n",
        "    train_features, train_labels,\n",
        "    epochs=40,\n",
        "    validation_data=(val_features, val_labels),\n",
        "    callbacks=callbacks,\n",
        ")"
      ],
      "metadata": {
        "id": "R7CGJTOM2rGA",
        "colab": {
          "base_uri": "https://localhost:8080/"
        },
        "outputId": "096aa26f-ac63-45f8-d388-7fbbc0ea5331"
      },
      "execution_count": null,
      "outputs": [
        {
          "output_type": "stream",
          "name": "stdout",
          "text": [
            "Epoch 1/40\n",
            "13/13 [==============================] - 2s 131ms/step - loss: 66.8039 - accuracy: 0.7028 - val_loss: 30.1228 - val_accuracy: 0.7133\n",
            "Epoch 2/40\n",
            "13/13 [==============================] - 0s 15ms/step - loss: 5.2198 - accuracy: 0.9432 - val_loss: 5.4636 - val_accuracy: 0.9300\n",
            "Epoch 3/40\n",
            "13/13 [==============================] - 0s 7ms/step - loss: 1.3619 - accuracy: 0.9638 - val_loss: 10.4110 - val_accuracy: 0.8933\n",
            "Epoch 4/40\n",
            "13/13 [==============================] - 0s 10ms/step - loss: 0.6352 - accuracy: 0.9845 - val_loss: 8.2285 - val_accuracy: 0.8733\n",
            "Epoch 5/40\n",
            "13/13 [==============================] - 0s 9ms/step - loss: 1.8959 - accuracy: 0.9793 - val_loss: 14.2095 - val_accuracy: 0.8767\n",
            "Epoch 6/40\n",
            "13/13 [==============================] - 0s 10ms/step - loss: 0.9687 - accuracy: 0.9845 - val_loss: 13.2626 - val_accuracy: 0.8633\n",
            "Epoch 7/40\n",
            "13/13 [==============================] - 0s 7ms/step - loss: 0.5744 - accuracy: 0.9871 - val_loss: 7.5088 - val_accuracy: 0.9133\n",
            "Epoch 8/40\n",
            "13/13 [==============================] - 0s 7ms/step - loss: 0.0907 - accuracy: 0.9897 - val_loss: 8.9951 - val_accuracy: 0.9067\n",
            "Epoch 9/40\n",
            "13/13 [==============================] - 0s 7ms/step - loss: 1.6861 - accuracy: 0.9767 - val_loss: 13.7190 - val_accuracy: 0.8700\n",
            "Epoch 10/40\n",
            "13/13 [==============================] - 0s 7ms/step - loss: 0.2001 - accuracy: 0.9897 - val_loss: 11.3966 - val_accuracy: 0.8900\n",
            "Epoch 11/40\n",
            "13/13 [==============================] - 0s 11ms/step - loss: 0.1636 - accuracy: 0.9897 - val_loss: 27.7295 - val_accuracy: 0.8433\n",
            "Epoch 12/40\n",
            "13/13 [==============================] - 0s 7ms/step - loss: 0.7090 - accuracy: 0.9767 - val_loss: 16.4424 - val_accuracy: 0.8733\n",
            "Epoch 13/40\n",
            "13/13 [==============================] - 0s 7ms/step - loss: 0.4333 - accuracy: 0.9948 - val_loss: 6.2495 - val_accuracy: 0.9267\n",
            "Epoch 14/40\n",
            "13/13 [==============================] - 0s 8ms/step - loss: 4.6803e-05 - accuracy: 1.0000 - val_loss: 6.5101 - val_accuracy: 0.9267\n",
            "Epoch 15/40\n",
            "13/13 [==============================] - 0s 8ms/step - loss: 1.3685 - accuracy: 0.9819 - val_loss: 16.1203 - val_accuracy: 0.9033\n",
            "Epoch 16/40\n",
            "13/13 [==============================] - 0s 10ms/step - loss: 0.4379 - accuracy: 0.9845 - val_loss: 7.2992 - val_accuracy: 0.9167\n",
            "Epoch 17/40\n",
            "13/13 [==============================] - 0s 7ms/step - loss: 3.9234e-04 - accuracy: 1.0000 - val_loss: 7.0833 - val_accuracy: 0.9267\n",
            "Epoch 18/40\n",
            "13/13 [==============================] - 0s 7ms/step - loss: 0.2922 - accuracy: 0.9974 - val_loss: 14.5374 - val_accuracy: 0.9100\n",
            "Epoch 19/40\n",
            "13/13 [==============================] - 0s 7ms/step - loss: 0.1096 - accuracy: 0.9922 - val_loss: 8.8427 - val_accuracy: 0.9200\n",
            "Epoch 20/40\n",
            "13/13 [==============================] - 0s 7ms/step - loss: 0.4137 - accuracy: 0.9974 - val_loss: 17.3620 - val_accuracy: 0.8900\n",
            "Epoch 21/40\n",
            "13/13 [==============================] - 0s 7ms/step - loss: 0.0312 - accuracy: 0.9974 - val_loss: 12.1219 - val_accuracy: 0.9167\n",
            "Epoch 22/40\n",
            "13/13 [==============================] - 0s 7ms/step - loss: 0.1414 - accuracy: 0.9974 - val_loss: 10.9598 - val_accuracy: 0.9167\n",
            "Epoch 23/40\n",
            "13/13 [==============================] - 0s 7ms/step - loss: 0.0505 - accuracy: 0.9974 - val_loss: 15.4036 - val_accuracy: 0.9100\n",
            "Epoch 24/40\n",
            "13/13 [==============================] - 0s 10ms/step - loss: 0.0000e+00 - accuracy: 1.0000 - val_loss: 15.4036 - val_accuracy: 0.9100\n",
            "Epoch 25/40\n",
            "13/13 [==============================] - 0s 8ms/step - loss: 0.0000e+00 - accuracy: 1.0000 - val_loss: 15.4036 - val_accuracy: 0.9100\n",
            "Epoch 26/40\n",
            "13/13 [==============================] - 0s 7ms/step - loss: 0.2120 - accuracy: 0.9948 - val_loss: 7.6987 - val_accuracy: 0.9267\n",
            "Epoch 27/40\n",
            "13/13 [==============================] - 0s 8ms/step - loss: 9.0561e-08 - accuracy: 1.0000 - val_loss: 7.8587 - val_accuracy: 0.9233\n",
            "Epoch 28/40\n",
            "13/13 [==============================] - 0s 12ms/step - loss: 8.9330e-09 - accuracy: 1.0000 - val_loss: 7.8740 - val_accuracy: 0.9300\n",
            "Epoch 29/40\n",
            "13/13 [==============================] - 0s 8ms/step - loss: 0.0000e+00 - accuracy: 1.0000 - val_loss: 7.8739 - val_accuracy: 0.9300\n",
            "Epoch 30/40\n",
            "13/13 [==============================] - 0s 10ms/step - loss: 2.8399e-07 - accuracy: 1.0000 - val_loss: 9.2245 - val_accuracy: 0.9300\n",
            "Epoch 31/40\n",
            "13/13 [==============================] - 0s 7ms/step - loss: 0.0306 - accuracy: 0.9974 - val_loss: 9.5464 - val_accuracy: 0.9300\n",
            "Epoch 32/40\n",
            "13/13 [==============================] - 0s 8ms/step - loss: 0.0000e+00 - accuracy: 1.0000 - val_loss: 9.5464 - val_accuracy: 0.9300\n",
            "Epoch 33/40\n",
            "13/13 [==============================] - 0s 8ms/step - loss: 0.0360 - accuracy: 0.9974 - val_loss: 9.5533 - val_accuracy: 0.9333\n",
            "Epoch 34/40\n",
            "13/13 [==============================] - 0s 7ms/step - loss: 0.0000e+00 - accuracy: 1.0000 - val_loss: 9.5533 - val_accuracy: 0.9333\n",
            "Epoch 35/40\n",
            "13/13 [==============================] - 0s 7ms/step - loss: 0.0000e+00 - accuracy: 1.0000 - val_loss: 9.5533 - val_accuracy: 0.9333\n",
            "Epoch 36/40\n",
            "13/13 [==============================] - 0s 7ms/step - loss: 0.0476 - accuracy: 0.9974 - val_loss: 13.9471 - val_accuracy: 0.9100\n",
            "Epoch 37/40\n",
            "13/13 [==============================] - 0s 7ms/step - loss: 0.0000e+00 - accuracy: 1.0000 - val_loss: 13.9471 - val_accuracy: 0.9100\n",
            "Epoch 38/40\n",
            "13/13 [==============================] - 0s 10ms/step - loss: 0.0000e+00 - accuracy: 1.0000 - val_loss: 13.9471 - val_accuracy: 0.9100\n",
            "Epoch 39/40\n",
            "13/13 [==============================] - 0s 7ms/step - loss: 0.0000e+00 - accuracy: 1.0000 - val_loss: 13.9471 - val_accuracy: 0.9100\n",
            "Epoch 40/40\n",
            "13/13 [==============================] - 0s 7ms/step - loss: 0.0000e+00 - accuracy: 1.0000 - val_loss: 13.9471 - val_accuracy: 0.9100\n"
          ]
        }
      ]
    },
    {
      "cell_type": "code",
      "source": [
        "accuracy = history.history[\"accuracy\"]\n",
        "val_accuracy = history.history[\"val_accuracy\"]\n",
        "loss = history.history[\"loss\"]\n",
        "val_loss = history.history[\"val_loss\"]\n",
        "\n",
        "plot_accuracy_los(accuracy, val_accuracy, loss,val_loss)"
      ],
      "metadata": {
        "id": "iRuF4dfC2tuj",
        "colab": {
          "base_uri": "https://localhost:8080/",
          "height": 281
        },
        "outputId": "de2a9d4c-e763-422c-9ca2-d86649d3fdb3"
      },
      "execution_count": null,
      "outputs": [
        {
          "output_type": "display_data",
          "data": {
            "text/plain": [
              "<Figure size 432x288 with 2 Axes>"
            ],
            "image/png": "[encoded data removed]"
          },
          "metadata": {
            "needs_background": "light"
          }
        }
      ]
    },
    {
      "cell_type": "code",
      "source": [
        "test_model = keras.models.load_model(\"/content/drive/MyDrive/schilderijen_app/modellen/VGG16.keras\")\n",
        "test_loss, test_acc = test_model.evaluate(test_features, test_labels) \n",
        "print(f\"Test accuracy: {test_acc:.3f}\")"
      ],
      "metadata": {
        "id": "zUEZ_l8q2v9D",
        "colab": {
          "base_uri": "https://localhost:8080/"
        },
        "outputId": "8d7a3f5c-2df9-419b-beeb-337e8f27bf45"
      },
      "execution_count": null,
      "outputs": [
        {
          "output_type": "stream",
          "name": "stdout",
          "text": [
            "10/10 [==============================] - 0s 3ms/step - loss: 15.9446 - accuracy: 0.8767\n",
            "Test accuracy: 0.877\n"
          ]
        }
      ]
    },
    {
      "cell_type": "markdown",
      "source": [
        "# Feature extraction met VGG16 en met data augmentation: \n",
        "Listing 8.23 (p231) en 8.25 (p232)"
      ],
      "metadata": {
        "id": "ZnVj2_252zBL"
      }
    },
    {
      "cell_type": "code",
      "source": [
        "conv_base = keras.applications.vgg16.VGG16(\n",
        "    weights=\"imagenet\",\n",
        "    include_top=False,\n",
        ")"
      ],
      "metadata": {
        "id": "SphKye462yf9"
      },
      "execution_count": null,
      "outputs": []
    },
    {
      "cell_type": "code",
      "source": [
        "conv_base.trainable = True\n",
        "print(\"This is the number of trainable weight tensors \"\n",
        "      \"before freezing the conv base:\", len(conv_base.trainable_weights))"
      ],
      "metadata": {
        "id": "MFtVL0Eu25Tq",
        "colab": {
          "base_uri": "https://localhost:8080/"
        },
        "outputId": "6c3fa59c-8022-442c-9837-5be39b172ddc"
      },
      "execution_count": null,
      "outputs": [
        {
          "output_type": "stream",
          "name": "stdout",
          "text": [
            "This is the number of trainable weight tensors before freezing the conv base: 26\n"
          ]
        }
      ]
    },
    {
      "cell_type": "code",
      "source": [
        "conv_base.trainable = False\n",
        "print(\"This is the number of trainable weight tensors \"\n",
        "      \"after freezing the conv base:\", len(conv_base.trainable_weights))"
      ],
      "metadata": {
        "id": "SON0vFqB27JI",
        "colab": {
          "base_uri": "https://localhost:8080/"
        },
        "outputId": "5c29b181-e427-4860-986a-06610556feb4"
      },
      "execution_count": null,
      "outputs": [
        {
          "output_type": "stream",
          "name": "stdout",
          "text": [
            "This is the number of trainable weight tensors after freezing the conv base: 0\n"
          ]
        }
      ]
    },
    {
      "cell_type": "code",
      "source": [
        "data_augmentation = keras.Sequential([\n",
        "    layers.RandomFlip(\"horizontal\"),\n",
        "    layers.RandomRotation(0.1),\n",
        "    layers.RandomZoom(0.2),\n",
        "])"
      ],
      "metadata": {
        "id": "-LTqKYuo28wg"
      },
      "execution_count": null,
      "outputs": []
    },
    {
      "cell_type": "code",
      "source": [
        "inputs = keras.Input(shape=(180, 180, 3))\n",
        "x = data_augmentation(inputs) \n",
        "x = keras.applications.vgg16.preprocess_input(x) \n",
        "x = conv_base(x)\n",
        "x = layers.Flatten()(x)\n",
        "x = layers.Dense(256)(x)\n",
        "x = layers.Dropout(0.5)(x)\n",
        "outputs = layers.Dense(3, activation=\"softmax\")(x)"
      ],
      "metadata": {
        "id": "LusL_3vn2-3S"
      },
      "execution_count": null,
      "outputs": []
    },
    {
      "cell_type": "code",
      "source": [
        "model = keras.Model(inputs, outputs)\n",
        "model.compile(\n",
        "    loss=\"sparse_categorical_crossentropy\",\n",
        "    optimizer=\"rmsprop\",\n",
        "    metrics=[\"accuracy\"]\n",
        "  )"
      ],
      "metadata": {
        "id": "UExR8dm83A1S"
      },
      "execution_count": null,
      "outputs": []
    },
    {
      "cell_type": "code",
      "source": [
        "callbacks = [keras.callbacks.ModelCheckpoint(\n",
        "    filepath=\"/content/drive/MyDrive/schilderijen_app/modellen/VGG16_data_augementation.keras\",\n",
        "    save_best_only=True,\n",
        "    monitor=\"val_loss\")]"
      ],
      "metadata": {
        "id": "U_IHd5Am3C00"
      },
      "execution_count": null,
      "outputs": []
    },
    {
      "cell_type": "code",
      "source": [
        "history = model.fit(\n",
        "    train_dataset,\n",
        "    epochs=40,\n",
        "    validation_data=validation_dataset,\n",
        "    callbacks=callbacks\n",
        ")"
      ],
      "metadata": {
        "id": "2eDcFzQ03FMX",
        "colab": {
          "base_uri": "https://localhost:8080/"
        },
        "outputId": "8be38cd4-dffa-4fa9-bae8-5a8f2bf46399"
      },
      "execution_count": null,
      "outputs": [
        {
          "output_type": "stream",
          "name": "stdout",
          "text": [
            "Epoch 1/40\n",
            "13/13 [==============================] - 6s 376ms/step - loss: 84.7206 - accuracy: 0.6047 - val_loss: 12.3300 - val_accuracy: 0.8667\n",
            "Epoch 2/40\n",
            "13/13 [==============================] - 3s 233ms/step - loss: 11.2226 - accuracy: 0.8708 - val_loss: 17.3650 - val_accuracy: 0.8233\n",
            "Epoch 3/40\n",
            "13/13 [==============================] - 3s 234ms/step - loss: 8.3337 - accuracy: 0.9044 - val_loss: 23.9004 - val_accuracy: 0.8400\n",
            "Epoch 4/40\n",
            "13/13 [==============================] - 5s 350ms/step - loss: 6.1249 - accuracy: 0.9121 - val_loss: 10.6184 - val_accuracy: 0.8633\n",
            "Epoch 5/40\n",
            "13/13 [==============================] - 4s 258ms/step - loss: 4.3545 - accuracy: 0.9380 - val_loss: 7.7172 - val_accuracy: 0.9100\n",
            "Epoch 6/40\n",
            "13/13 [==============================] - 3s 235ms/step - loss: 4.8438 - accuracy: 0.9302 - val_loss: 21.2843 - val_accuracy: 0.8100\n",
            "Epoch 7/40\n",
            "13/13 [==============================] - 3s 241ms/step - loss: 5.6441 - accuracy: 0.9225 - val_loss: 10.7186 - val_accuracy: 0.8833\n",
            "Epoch 8/40\n",
            "13/13 [==============================] - 3s 239ms/step - loss: 2.3655 - accuracy: 0.9561 - val_loss: 10.5864 - val_accuracy: 0.8933\n",
            "Epoch 9/40\n",
            "13/13 [==============================] - 3s 237ms/step - loss: 3.5870 - accuracy: 0.9457 - val_loss: 13.0235 - val_accuracy: 0.8733\n",
            "Epoch 10/40\n",
            "13/13 [==============================] - 5s 378ms/step - loss: 2.4225 - accuracy: 0.9587 - val_loss: 6.9545 - val_accuracy: 0.9200\n",
            "Epoch 11/40\n",
            "13/13 [==============================] - 3s 237ms/step - loss: 2.3975 - accuracy: 0.9690 - val_loss: 13.2219 - val_accuracy: 0.8800\n",
            "Epoch 12/40\n",
            "13/13 [==============================] - 3s 243ms/step - loss: 2.4025 - accuracy: 0.9690 - val_loss: 12.6731 - val_accuracy: 0.8833\n",
            "Epoch 13/40\n",
            "13/13 [==============================] - 4s 278ms/step - loss: 1.4720 - accuracy: 0.9716 - val_loss: 18.3435 - val_accuracy: 0.8700\n",
            "Epoch 14/40\n",
            "13/13 [==============================] - 3s 236ms/step - loss: 1.7476 - accuracy: 0.9793 - val_loss: 11.2080 - val_accuracy: 0.9133\n",
            "Epoch 15/40\n",
            "13/13 [==============================] - 3s 243ms/step - loss: 2.6890 - accuracy: 0.9612 - val_loss: 16.2654 - val_accuracy: 0.8633\n",
            "Epoch 16/40\n",
            "13/13 [==============================] - 3s 237ms/step - loss: 2.4803 - accuracy: 0.9638 - val_loss: 10.1970 - val_accuracy: 0.9067\n",
            "Epoch 17/40\n",
            "13/13 [==============================] - 3s 241ms/step - loss: 3.4908 - accuracy: 0.9664 - val_loss: 13.4830 - val_accuracy: 0.8933\n",
            "Epoch 18/40\n",
            "13/13 [==============================] - 3s 241ms/step - loss: 1.3688 - accuracy: 0.9793 - val_loss: 10.4576 - val_accuracy: 0.9200\n",
            "Epoch 19/40\n",
            "13/13 [==============================] - 3s 237ms/step - loss: 2.0483 - accuracy: 0.9793 - val_loss: 11.7947 - val_accuracy: 0.9133\n",
            "Epoch 20/40\n",
            "13/13 [==============================] - 3s 236ms/step - loss: 3.9056 - accuracy: 0.9612 - val_loss: 12.6680 - val_accuracy: 0.9067\n",
            "Epoch 21/40\n",
            "13/13 [==============================] - 3s 239ms/step - loss: 1.5949 - accuracy: 0.9793 - val_loss: 13.6657 - val_accuracy: 0.9000\n",
            "Epoch 22/40\n",
            "13/13 [==============================] - 3s 236ms/step - loss: 0.9334 - accuracy: 0.9819 - val_loss: 11.0612 - val_accuracy: 0.9033\n",
            "Epoch 23/40\n",
            "13/13 [==============================] - 3s 242ms/step - loss: 1.4798 - accuracy: 0.9716 - val_loss: 11.5637 - val_accuracy: 0.9167\n",
            "Epoch 24/40\n",
            "13/13 [==============================] - 3s 239ms/step - loss: 1.9530 - accuracy: 0.9767 - val_loss: 12.6712 - val_accuracy: 0.9067\n",
            "Epoch 25/40\n",
            "13/13 [==============================] - 3s 241ms/step - loss: 0.6203 - accuracy: 0.9897 - val_loss: 12.3691 - val_accuracy: 0.9067\n",
            "Epoch 26/40\n",
            "13/13 [==============================] - 3s 238ms/step - loss: 2.2287 - accuracy: 0.9767 - val_loss: 13.7239 - val_accuracy: 0.9200\n",
            "Epoch 27/40\n",
            "13/13 [==============================] - 3s 241ms/step - loss: 0.8228 - accuracy: 0.9897 - val_loss: 18.3073 - val_accuracy: 0.8933\n",
            "Epoch 28/40\n",
            "13/13 [==============================] - 3s 243ms/step - loss: 1.4583 - accuracy: 0.9871 - val_loss: 11.9650 - val_accuracy: 0.9033\n",
            "Epoch 29/40\n",
            "13/13 [==============================] - 3s 243ms/step - loss: 0.5277 - accuracy: 0.9845 - val_loss: 12.5120 - val_accuracy: 0.9100\n",
            "Epoch 30/40\n",
            "13/13 [==============================] - 3s 242ms/step - loss: 0.1718 - accuracy: 0.9922 - val_loss: 11.2410 - val_accuracy: 0.9267\n",
            "Epoch 31/40\n",
            "13/13 [==============================] - 3s 245ms/step - loss: 2.5278 - accuracy: 0.9690 - val_loss: 13.6797 - val_accuracy: 0.9133\n",
            "Epoch 32/40\n",
            "13/13 [==============================] - 3s 242ms/step - loss: 0.7613 - accuracy: 0.9871 - val_loss: 11.0403 - val_accuracy: 0.9233\n",
            "Epoch 33/40\n",
            "13/13 [==============================] - 3s 244ms/step - loss: 0.7829 - accuracy: 0.9871 - val_loss: 12.5941 - val_accuracy: 0.9233\n",
            "Epoch 34/40\n",
            "13/13 [==============================] - 3s 241ms/step - loss: 1.0059 - accuracy: 0.9845 - val_loss: 11.4522 - val_accuracy: 0.9200\n",
            "Epoch 35/40\n",
            "13/13 [==============================] - 3s 240ms/step - loss: 0.6876 - accuracy: 0.9871 - val_loss: 9.9908 - val_accuracy: 0.9367\n",
            "Epoch 36/40\n",
            "13/13 [==============================] - 3s 240ms/step - loss: 0.0981 - accuracy: 0.9974 - val_loss: 13.0004 - val_accuracy: 0.9000\n",
            "Epoch 37/40\n",
            "13/13 [==============================] - 3s 241ms/step - loss: 1.8949 - accuracy: 0.9845 - val_loss: 13.1054 - val_accuracy: 0.9067\n",
            "Epoch 38/40\n",
            "13/13 [==============================] - 3s 241ms/step - loss: 1.3308 - accuracy: 0.9871 - val_loss: 14.5540 - val_accuracy: 0.9167\n",
            "Epoch 39/40\n",
            "13/13 [==============================] - 3s 243ms/step - loss: 0.0750 - accuracy: 0.9948 - val_loss: 12.3111 - val_accuracy: 0.9300\n",
            "Epoch 40/40\n",
            "13/13 [==============================] - 3s 243ms/step - loss: 0.3137 - accuracy: 0.9922 - val_loss: 13.9132 - val_accuracy: 0.9200\n"
          ]
        }
      ]
    },
    {
      "cell_type": "code",
      "source": [
        "accuracy = history.history[\"accuracy\"]\n",
        "val_accuracy = history.history[\"val_accuracy\"]\n",
        "loss = history.history[\"loss\"]\n",
        "val_loss = history.history[\"val_loss\"]\n",
        "\n",
        "plot_accuracy_los(accuracy, val_accuracy, loss,val_loss)"
      ],
      "metadata": {
        "id": "OS-mEUlB3Hv8",
        "colab": {
          "base_uri": "https://localhost:8080/",
          "height": 281
        },
        "outputId": "c334e82a-f6b7-4d8d-eae6-4b55b294a181"
      },
      "execution_count": null,
      "outputs": [
        {
          "output_type": "display_data",
          "data": {
            "text/plain": [
              "<Figure size 432x288 with 2 Axes>"
            ],
            "image/png": "[encoded data removed]"
          },
          "metadata": {
            "needs_background": "light"
          }
        }
      ]
    },
    {
      "cell_type": "code",
      "source": [
        "model = keras.models.load_model(\"/content/drive/MyDrive/schilderijen_app/modellen/VGG16_data_augementation.keras\")\n",
        "test_loss, test_acc = model.evaluate(test_dataset) \n",
        "print(f\"Test accuracy: {test_acc:.3f}\")"
      ],
      "metadata": {
        "colab": {
          "base_uri": "https://localhost:8080/"
        },
        "id": "vNhWAvHJkdzO",
        "outputId": "1b6a4ec0-0379-47b6-ed39-083708903d36"
      },
      "execution_count": null,
      "outputs": [
        {
          "output_type": "stream",
          "name": "stdout",
          "text": [
            "10/10 [==============================] - 2s 108ms/step - loss: 22.1017 - accuracy: 0.8667\n",
            "Test accuracy: 0.867\n"
          ]
        }
      ]
    },
    {
      "cell_type": "markdown",
      "source": [
        "# Finetuning van VGG16 conv base\n",
        "\n",
        "Listing 8.27 en 8.28 (p236)"
      ],
      "metadata": {
        "id": "tN87hLx6iB6p"
      }
    },
    {
      "cell_type": "code",
      "source": [
        "conv_base.trainable = True\n",
        "for layer in conv_base.layers[:-4]:\n",
        "    layer.trainable = False"
      ],
      "metadata": {
        "id": "uZtZYpnFiBtI"
      },
      "execution_count": null,
      "outputs": []
    },
    {
      "cell_type": "code",
      "source": [
        "# gewichten toekennen aan nieuwe variabele (zie verder)\n",
        "weights_before = model.weights"
      ],
      "metadata": {
        "id": "v-EDpqPeiG-N"
      },
      "execution_count": null,
      "outputs": []
    },
    {
      "cell_type": "markdown",
      "source": [
        "Model hercompileren"
      ],
      "metadata": {
        "id": "gul67JWdXbjR"
      }
    },
    {
      "cell_type": "code",
      "source": [
        "model.compile(\n",
        "    loss=\"sparse_categorical_crossentropy\",\n",
        "    optimizer=keras.optimizers.RMSprop(learning_rate=1e-5),  # kleine learning rate nemen!\n",
        "    metrics=[\"accuracy\"]\n",
        ")"
      ],
      "metadata": {
        "id": "Vh3KBO5NXQAw"
      },
      "execution_count": null,
      "outputs": []
    },
    {
      "cell_type": "markdown",
      "source": [
        "Model hertrainen"
      ],
      "metadata": {
        "id": "ayEmYx5NXj7H"
      }
    },
    {
      "cell_type": "code",
      "source": [
        "callbacks = [keras.callbacks.ModelCheckpoint(\n",
        "    filepath=\"/content/drive/MyDrive/schilderijen_app/modellen/fine_tuning_VGG16.keras\",\n",
        "    save_best_only=True,\n",
        "    monitor=\"val_loss\")]"
      ],
      "metadata": {
        "id": "dPMAPZbCiI_Y"
      },
      "execution_count": null,
      "outputs": []
    },
    {
      "cell_type": "code",
      "source": [
        "history = model.fit(\n",
        "    train_dataset,\n",
        "    epochs=40,\n",
        "    validation_data=validation_dataset,\n",
        "    callbacks=callbacks\n",
        ")"
      ],
      "metadata": {
        "colab": {
          "base_uri": "https://localhost:8080/"
        },
        "id": "8SDCC9JgiLJ_",
        "outputId": "2f42208e-3ad4-47be-db31-b29a96c8baa7"
      },
      "execution_count": null,
      "outputs": [
        {
          "output_type": "stream",
          "name": "stdout",
          "text": [
            "Epoch 1/40\n",
            "13/13 [==============================] - 4s 271ms/step - loss: 6.2285 - accuracy: 0.9664 - val_loss: 10.4024 - val_accuracy: 0.8900\n",
            "Epoch 2/40\n",
            "13/13 [==============================] - 4s 258ms/step - loss: 3.0377 - accuracy: 0.9690 - val_loss: 6.8087 - val_accuracy: 0.9133\n",
            "Epoch 3/40\n",
            "13/13 [==============================] - 4s 260ms/step - loss: 1.8614 - accuracy: 0.9793 - val_loss: 6.4934 - val_accuracy: 0.9267\n",
            "Epoch 4/40\n",
            "13/13 [==============================] - 3s 237ms/step - loss: 1.5269 - accuracy: 0.9742 - val_loss: 8.5953 - val_accuracy: 0.8967\n",
            "Epoch 5/40\n",
            "13/13 [==============================] - 3s 243ms/step - loss: 2.0783 - accuracy: 0.9690 - val_loss: 19.3356 - val_accuracy: 0.8600\n",
            "Epoch 6/40\n",
            "13/13 [==============================] - 3s 242ms/step - loss: 1.2484 - accuracy: 0.9793 - val_loss: 18.2125 - val_accuracy: 0.8933\n",
            "Epoch 7/40\n",
            "13/13 [==============================] - 3s 238ms/step - loss: 2.5365 - accuracy: 0.9587 - val_loss: 9.2613 - val_accuracy: 0.9067\n",
            "Epoch 8/40\n",
            "13/13 [==============================] - 3s 239ms/step - loss: 1.2804 - accuracy: 0.9819 - val_loss: 9.7598 - val_accuracy: 0.8967\n",
            "Epoch 9/40\n",
            "13/13 [==============================] - 4s 254ms/step - loss: 1.3655 - accuracy: 0.9845 - val_loss: 18.6441 - val_accuracy: 0.8833\n",
            "Epoch 10/40\n",
            "13/13 [==============================] - 4s 255ms/step - loss: 1.6877 - accuracy: 0.9767 - val_loss: 12.0889 - val_accuracy: 0.8933\n",
            "Epoch 11/40\n",
            "13/13 [==============================] - 3s 239ms/step - loss: 4.3014 - accuracy: 0.9587 - val_loss: 18.0249 - val_accuracy: 0.8733\n",
            "Epoch 12/40\n",
            "13/13 [==============================] - 5s 337ms/step - loss: 4.9325 - accuracy: 0.9561 - val_loss: 13.0946 - val_accuracy: 0.9133\n",
            "Epoch 13/40\n",
            "13/13 [==============================] - 3s 239ms/step - loss: 1.7899 - accuracy: 0.9767 - val_loss: 11.3529 - val_accuracy: 0.8867\n",
            "Epoch 14/40\n",
            "13/13 [==============================] - 3s 240ms/step - loss: 0.8414 - accuracy: 0.9871 - val_loss: 14.7077 - val_accuracy: 0.8933\n",
            "Epoch 15/40\n",
            "13/13 [==============================] - 3s 242ms/step - loss: 0.5981 - accuracy: 0.9871 - val_loss: 17.9928 - val_accuracy: 0.8867\n",
            "Epoch 16/40\n",
            "13/13 [==============================] - 4s 247ms/step - loss: 0.4844 - accuracy: 0.9948 - val_loss: 19.2319 - val_accuracy: 0.8867\n",
            "Epoch 17/40\n",
            "13/13 [==============================] - 3s 241ms/step - loss: 1.4610 - accuracy: 0.9819 - val_loss: 15.9825 - val_accuracy: 0.9033\n",
            "Epoch 18/40\n",
            "13/13 [==============================] - 3s 242ms/step - loss: 2.2537 - accuracy: 0.9767 - val_loss: 13.3677 - val_accuracy: 0.8967\n",
            "Epoch 19/40\n",
            "13/13 [==============================] - 3s 240ms/step - loss: 1.9868 - accuracy: 0.9845 - val_loss: 14.2334 - val_accuracy: 0.8967\n",
            "Epoch 20/40\n",
            "13/13 [==============================] - 3s 241ms/step - loss: 1.6191 - accuracy: 0.9871 - val_loss: 14.7653 - val_accuracy: 0.8867\n",
            "Epoch 21/40\n",
            "13/13 [==============================] - 3s 238ms/step - loss: 1.6396 - accuracy: 0.9767 - val_loss: 14.4914 - val_accuracy: 0.8900\n",
            "Epoch 22/40\n",
            "13/13 [==============================] - 3s 240ms/step - loss: 1.4948 - accuracy: 0.9767 - val_loss: 14.5825 - val_accuracy: 0.9000\n",
            "Epoch 23/40\n",
            "13/13 [==============================] - 3s 243ms/step - loss: 1.5934 - accuracy: 0.9871 - val_loss: 11.5960 - val_accuracy: 0.9100\n",
            "Epoch 24/40\n",
            "13/13 [==============================] - 3s 244ms/step - loss: 0.0717 - accuracy: 0.9948 - val_loss: 12.1300 - val_accuracy: 0.9100\n",
            "Epoch 25/40\n",
            "13/13 [==============================] - 3s 245ms/step - loss: 1.6968 - accuracy: 0.9793 - val_loss: 11.9199 - val_accuracy: 0.9067\n",
            "Epoch 26/40\n",
            "13/13 [==============================] - 3s 246ms/step - loss: 0.5818 - accuracy: 0.9897 - val_loss: 12.4477 - val_accuracy: 0.8967\n",
            "Epoch 27/40\n",
            "13/13 [==============================] - 3s 247ms/step - loss: 0.2187 - accuracy: 0.9922 - val_loss: 14.0256 - val_accuracy: 0.8933\n",
            "Epoch 28/40\n",
            "13/13 [==============================] - 3s 244ms/step - loss: 0.5701 - accuracy: 0.9767 - val_loss: 18.2458 - val_accuracy: 0.8867\n",
            "Epoch 29/40\n",
            "13/13 [==============================] - 3s 246ms/step - loss: 1.8874 - accuracy: 0.9871 - val_loss: 21.2657 - val_accuracy: 0.8867\n",
            "Epoch 30/40\n",
            "13/13 [==============================] - 3s 242ms/step - loss: 0.7734 - accuracy: 0.9871 - val_loss: 13.0088 - val_accuracy: 0.8967\n",
            "Epoch 31/40\n",
            "13/13 [==============================] - 3s 246ms/step - loss: 1.3221 - accuracy: 0.9767 - val_loss: 30.3315 - val_accuracy: 0.8667\n",
            "Epoch 32/40\n",
            "13/13 [==============================] - 3s 244ms/step - loss: 0.5096 - accuracy: 0.9871 - val_loss: 20.0789 - val_accuracy: 0.8933\n",
            "Epoch 33/40\n",
            "13/13 [==============================] - 3s 246ms/step - loss: 1.1952 - accuracy: 0.9871 - val_loss: 15.8989 - val_accuracy: 0.8933\n",
            "Epoch 34/40\n",
            "13/13 [==============================] - 3s 243ms/step - loss: 0.5133 - accuracy: 0.9922 - val_loss: 19.3183 - val_accuracy: 0.8833\n",
            "Epoch 35/40\n",
            "13/13 [==============================] - 3s 243ms/step - loss: 0.9578 - accuracy: 0.9974 - val_loss: 13.9230 - val_accuracy: 0.8900\n",
            "Epoch 36/40\n",
            "13/13 [==============================] - 3s 242ms/step - loss: 1.1630 - accuracy: 0.9845 - val_loss: 12.5672 - val_accuracy: 0.9033\n",
            "Epoch 37/40\n",
            "13/13 [==============================] - 3s 244ms/step - loss: 0.4429 - accuracy: 0.9897 - val_loss: 9.9818 - val_accuracy: 0.9133\n",
            "Epoch 38/40\n",
            "13/13 [==============================] - 3s 242ms/step - loss: 1.2195 - accuracy: 0.9819 - val_loss: 12.5117 - val_accuracy: 0.9067\n",
            "Epoch 39/40\n",
            "13/13 [==============================] - 3s 243ms/step - loss: 0.1663 - accuracy: 0.9974 - val_loss: 13.6260 - val_accuracy: 0.9033\n",
            "Epoch 40/40\n",
            "13/13 [==============================] - 3s 244ms/step - loss: 0.7086 - accuracy: 0.9922 - val_loss: 11.5112 - val_accuracy: 0.9167\n"
          ]
        }
      ]
    },
    {
      "cell_type": "code",
      "source": [
        "accuracy = history.history[\"accuracy\"]\n",
        "val_accuracy = history.history[\"val_accuracy\"]\n",
        "loss = history.history[\"loss\"]\n",
        "val_loss = history.history[\"val_loss\"]\n",
        "\n",
        "plot_accuracy_los(accuracy, val_accuracy, loss,val_loss)"
      ],
      "metadata": {
        "colab": {
          "base_uri": "https://localhost:8080/",
          "height": 281
        },
        "id": "S7x0HI-UiM2M",
        "outputId": "4dfa8d9c-eddf-42bd-b9d0-72d6287acd77"
      },
      "execution_count": null,
      "outputs": [
        {
          "output_type": "display_data",
          "data": {
            "text/plain": [
              "<Figure size 432x288 with 2 Axes>"
            ],
            "image/png": "[encoded data removed]"
          },
          "metadata": {
            "needs_background": "light"
          }
        }
      ]
    },
    {
      "cell_type": "code",
      "source": [
        "model = keras.models.load_model(\"/content/drive/MyDrive/schilderijen_app/modellen/fine_tuning_VGG16.keras\")\n",
        "test_loss, test_acc = model.evaluate(test_dataset) \n",
        "print(f\"Test accuracy: {test_acc:.3f}\")"
      ],
      "metadata": {
        "colab": {
          "base_uri": "https://localhost:8080/"
        },
        "id": "LEMOBd2_iOJC",
        "outputId": "4fb3237b-8791-438f-fecd-62070fce4345"
      },
      "execution_count": null,
      "outputs": [
        {
          "output_type": "stream",
          "name": "stdout",
          "text": [
            "10/10 [==============================] - 2s 106ms/step - loss: 21.1503 - accuracy: 0.8700\n",
            "Test accuracy: 0.870\n"
          ]
        }
      ]
    },
    {
      "cell_type": "markdown",
      "source": [
        "# Modellen testen"
      ],
      "metadata": {
        "id": "dpctLuN028Xq"
      }
    },
    {
      "cell_type": "code",
      "source": [
        "model = keras.models.load_model(\"/content/drive/MyDrive/schilderijen_app/modellen/VGG16.keras\")"
      ],
      "metadata": {
        "id": "rAF-OcDyYOEJ"
      },
      "execution_count": null,
      "outputs": []
    },
    {
      "cell_type": "code",
      "source": [
        "# Load the image and preprocess it\n",
        "img = Image.open('/content/drive/MyDrive/Mondriaan/NewYorkCityI_Piet_Mondriaan.jpg')\n",
        "img_new = img.resize((180, 180))  # Resize the image to 180*180\n",
        "img_new = np.array(img_new) / 255.0  # Normalize the pixel values\n",
        "\n",
        "# Make a prediction on the image\n",
        "predictions = model.predict(np.expand_dims(img_new, axis=0))\n",
        "\n",
        "# Determine the class with the highest probability\n",
        "predicted_class = np.argmax(predictions)\n",
        "\n",
        "# Map the integer class label to a string label\n",
        "predicted_label = categories[predicted_class]\n",
        "\n",
        "plt.imshow(img)\n",
        "print(f\"Computer says: {predicted_label}\")"
      ],
      "metadata": {
        "id": "VhtCW-FRYAJr"
      },
      "execution_count": null,
      "outputs": []
    },
    {
      "cell_type": "code",
      "source": [
        "model2 = keras.models.load_model(\"/content/drive/MyDrive/schilderijen_app/modellen/VGG16_data_augementation.keras\")"
      ],
      "metadata": {
        "id": "FggVSx-bYcwW"
      },
      "execution_count": null,
      "outputs": []
    },
    {
      "cell_type": "code",
      "source": [
        "# Load the image and preprocess it\n",
        "img = Image.open('/content/drive/MyDrive/Mondriaan/NewYorkCityI_Piet_Mondriaan.jpg')\n",
        "img_new = img.resize((180, 180))  # Resize the image to 180*180\n",
        "img_new = np.array(img_new) / 255.0  # Normalize the pixel values\n",
        "\n",
        "# Make a prediction on the image\n",
        "predictions = model2.predict(np.expand_dims(img_new, axis=0))\n",
        "\n",
        "# Determine the class with the highest probability\n",
        "predicted_class = np.argmax(predictions)\n",
        "\n",
        "# Map the integer class label to a string label\n",
        "predicted_label = categories[predicted_class]\n",
        "\n",
        "plt.imshow(img)\n",
        "print(f\"Computer says: {predicted_label}\")"
      ],
      "metadata": {
        "id": "NpVTbcmrYf_V"
      },
      "execution_count": null,
      "outputs": []
    },
    {
      "cell_type": "code",
      "source": [
        "model3 = keras.models.load_model(\"/content/drive/MyDrive/schilderijen_app/modellen/fine_tuning_VGG16.keras\")"
      ],
      "metadata": {
        "id": "fOQw-tPyYhqb"
      },
      "execution_count": null,
      "outputs": []
    },
    {
      "cell_type": "code",
      "source": [
        "# Load the image and preprocess it\n",
        "img = Image.open('/content/drive/MyDrive/Mondriaan/NewYorkCityI_Piet_Mondriaan.jpg')\n",
        "img_new = img.resize((180, 180))  # Resize the image to 180*180\n",
        "img_new = np.array(img_new) / 255.0  # Normalize the pixel values\n",
        "\n",
        "# Make a prediction on the image\n",
        "predictions = model3.predict(np.expand_dims(img_new, axis=0))\n",
        "\n",
        "# Determine the class with the highest probability\n",
        "predicted_class = np.argmax(predictions)\n",
        "\n",
        "# Map the integer class label to a string label\n",
        "predicted_label = categories[predicted_class]\n",
        "\n",
        "plt.imshow(img)\n",
        "print(f\"Computer says: {predicted_label}\")"
      ],
      "metadata": {
        "id": "jq8xKULaYibj"
      },
      "execution_count": null,
      "outputs": []
    }
  ]
}